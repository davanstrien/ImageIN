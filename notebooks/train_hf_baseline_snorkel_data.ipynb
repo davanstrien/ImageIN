{
  "nbformat": 4,
  "nbformat_minor": 0,
  "metadata": {
    "colab": {
      "provenance": [],
      "collapsed_sections": [],
      "machine_shape": "hm"
    },
    "kernelspec": {
      "name": "python3",
      "display_name": "Python 3"
    },
    "language_info": {
      "name": "python"
    },
    "accelerator": "GPU",
    "widgets": {
      "application/vnd.jupyter.widget-state+json": {
        "b27d254bdbc24696854408178247f08b": {
          "model_module": "@jupyter-widgets/controls",
          "model_name": "VBoxModel",
          "model_module_version": "1.5.0",
          "state": {
            "_dom_classes": [],
            "_model_module": "@jupyter-widgets/controls",
            "_model_module_version": "1.5.0",
            "_model_name": "VBoxModel",
            "_view_count": null,
            "_view_module": "@jupyter-widgets/controls",
            "_view_module_version": "1.5.0",
            "_view_name": "VBoxView",
            "box_style": "",
            "children": [
              "IPY_MODEL_73a99dc38c7844219b66062f8d3ffa38",
              "IPY_MODEL_6da70641783849f8bfbc8f1744389c74"
            ],
            "layout": "IPY_MODEL_eace8129ef8f44328b589840a36fb0c5"
          }
        },
        "73a99dc38c7844219b66062f8d3ffa38": {
          "model_module": "@jupyter-widgets/controls",
          "model_name": "LabelModel",
          "model_module_version": "1.5.0",
          "state": {
            "_dom_classes": [],
            "_model_module": "@jupyter-widgets/controls",
            "_model_module_version": "1.5.0",
            "_model_name": "LabelModel",
            "_view_count": null,
            "_view_module": "@jupyter-widgets/controls",
            "_view_module_version": "1.5.0",
            "_view_name": "LabelView",
            "description": "",
            "description_tooltip": null,
            "layout": "IPY_MODEL_7ca8d330c2e043fe94822c644c233249",
            "placeholder": "​",
            "style": "IPY_MODEL_9fc3d0dbf78e449a9a49b89fce6bc022",
            "value": "0.772 MB of 0.772 MB uploaded (0.000 MB deduped)\r"
          }
        },
        "6da70641783849f8bfbc8f1744389c74": {
          "model_module": "@jupyter-widgets/controls",
          "model_name": "FloatProgressModel",
          "model_module_version": "1.5.0",
          "state": {
            "_dom_classes": [],
            "_model_module": "@jupyter-widgets/controls",
            "_model_module_version": "1.5.0",
            "_model_name": "FloatProgressModel",
            "_view_count": null,
            "_view_module": "@jupyter-widgets/controls",
            "_view_module_version": "1.5.0",
            "_view_name": "ProgressView",
            "bar_style": "",
            "description": "",
            "description_tooltip": null,
            "layout": "IPY_MODEL_a0b7ff3abf61453b9986a95eb0983aed",
            "max": 1,
            "min": 0,
            "orientation": "horizontal",
            "style": "IPY_MODEL_9f3671b6e7ad4981bf9089d2e2a743ae",
            "value": 1
          }
        },
        "eace8129ef8f44328b589840a36fb0c5": {
          "model_module": "@jupyter-widgets/base",
          "model_name": "LayoutModel",
          "model_module_version": "1.2.0",
          "state": {
            "_model_module": "@jupyter-widgets/base",
            "_model_module_version": "1.2.0",
            "_model_name": "LayoutModel",
            "_view_count": null,
            "_view_module": "@jupyter-widgets/base",
            "_view_module_version": "1.2.0",
            "_view_name": "LayoutView",
            "align_content": null,
            "align_items": null,
            "align_self": null,
            "border": null,
            "bottom": null,
            "display": null,
            "flex": null,
            "flex_flow": null,
            "grid_area": null,
            "grid_auto_columns": null,
            "grid_auto_flow": null,
            "grid_auto_rows": null,
            "grid_column": null,
            "grid_gap": null,
            "grid_row": null,
            "grid_template_areas": null,
            "grid_template_columns": null,
            "grid_template_rows": null,
            "height": null,
            "justify_content": null,
            "justify_items": null,
            "left": null,
            "margin": null,
            "max_height": null,
            "max_width": null,
            "min_height": null,
            "min_width": null,
            "object_fit": null,
            "object_position": null,
            "order": null,
            "overflow": null,
            "overflow_x": null,
            "overflow_y": null,
            "padding": null,
            "right": null,
            "top": null,
            "visibility": null,
            "width": null
          }
        },
        "7ca8d330c2e043fe94822c644c233249": {
          "model_module": "@jupyter-widgets/base",
          "model_name": "LayoutModel",
          "model_module_version": "1.2.0",
          "state": {
            "_model_module": "@jupyter-widgets/base",
            "_model_module_version": "1.2.0",
            "_model_name": "LayoutModel",
            "_view_count": null,
            "_view_module": "@jupyter-widgets/base",
            "_view_module_version": "1.2.0",
            "_view_name": "LayoutView",
            "align_content": null,
            "align_items": null,
            "align_self": null,
            "border": null,
            "bottom": null,
            "display": null,
            "flex": null,
            "flex_flow": null,
            "grid_area": null,
            "grid_auto_columns": null,
            "grid_auto_flow": null,
            "grid_auto_rows": null,
            "grid_column": null,
            "grid_gap": null,
            "grid_row": null,
            "grid_template_areas": null,
            "grid_template_columns": null,
            "grid_template_rows": null,
            "height": null,
            "justify_content": null,
            "justify_items": null,
            "left": null,
            "margin": null,
            "max_height": null,
            "max_width": null,
            "min_height": null,
            "min_width": null,
            "object_fit": null,
            "object_position": null,
            "order": null,
            "overflow": null,
            "overflow_x": null,
            "overflow_y": null,
            "padding": null,
            "right": null,
            "top": null,
            "visibility": null,
            "width": null
          }
        },
        "9fc3d0dbf78e449a9a49b89fce6bc022": {
          "model_module": "@jupyter-widgets/controls",
          "model_name": "DescriptionStyleModel",
          "model_module_version": "1.5.0",
          "state": {
            "_model_module": "@jupyter-widgets/controls",
            "_model_module_version": "1.5.0",
            "_model_name": "DescriptionStyleModel",
            "_view_count": null,
            "_view_module": "@jupyter-widgets/base",
            "_view_module_version": "1.2.0",
            "_view_name": "StyleView",
            "description_width": ""
          }
        },
        "a0b7ff3abf61453b9986a95eb0983aed": {
          "model_module": "@jupyter-widgets/base",
          "model_name": "LayoutModel",
          "model_module_version": "1.2.0",
          "state": {
            "_model_module": "@jupyter-widgets/base",
            "_model_module_version": "1.2.0",
            "_model_name": "LayoutModel",
            "_view_count": null,
            "_view_module": "@jupyter-widgets/base",
            "_view_module_version": "1.2.0",
            "_view_name": "LayoutView",
            "align_content": null,
            "align_items": null,
            "align_self": null,
            "border": null,
            "bottom": null,
            "display": null,
            "flex": null,
            "flex_flow": null,
            "grid_area": null,
            "grid_auto_columns": null,
            "grid_auto_flow": null,
            "grid_auto_rows": null,
            "grid_column": null,
            "grid_gap": null,
            "grid_row": null,
            "grid_template_areas": null,
            "grid_template_columns": null,
            "grid_template_rows": null,
            "height": null,
            "justify_content": null,
            "justify_items": null,
            "left": null,
            "margin": null,
            "max_height": null,
            "max_width": null,
            "min_height": null,
            "min_width": null,
            "object_fit": null,
            "object_position": null,
            "order": null,
            "overflow": null,
            "overflow_x": null,
            "overflow_y": null,
            "padding": null,
            "right": null,
            "top": null,
            "visibility": null,
            "width": null
          }
        },
        "9f3671b6e7ad4981bf9089d2e2a743ae": {
          "model_module": "@jupyter-widgets/controls",
          "model_name": "ProgressStyleModel",
          "model_module_version": "1.5.0",
          "state": {
            "_model_module": "@jupyter-widgets/controls",
            "_model_module_version": "1.5.0",
            "_model_name": "ProgressStyleModel",
            "_view_count": null,
            "_view_module": "@jupyter-widgets/base",
            "_view_module_version": "1.2.0",
            "_view_name": "StyleView",
            "bar_color": null,
            "description_width": ""
          }
        },
        "0365f2ef3b1149aa845a2f8c8c6e7cb4": {
          "model_module": "@jupyter-widgets/controls",
          "model_name": "VBoxModel",
          "model_module_version": "1.5.0",
          "state": {
            "_dom_classes": [],
            "_model_module": "@jupyter-widgets/controls",
            "_model_module_version": "1.5.0",
            "_model_name": "VBoxModel",
            "_view_count": null,
            "_view_module": "@jupyter-widgets/controls",
            "_view_module_version": "1.5.0",
            "_view_name": "VBoxView",
            "box_style": "",
            "children": [
              "IPY_MODEL_5ee0eac5160946449fc7a3638b319d68",
              "IPY_MODEL_a2f7c609d17b49568f10b63d17ed5b40",
              "IPY_MODEL_2cbad61c19ae4f2d9ce6a4be5bb86cbc",
              "IPY_MODEL_4d5fb3fe61874dd8afba334f30595920"
            ],
            "layout": "IPY_MODEL_2c7dba0f06e5470a8981151d4c1af2f5"
          }
        },
        "5ee0eac5160946449fc7a3638b319d68": {
          "model_module": "@jupyter-widgets/controls",
          "model_name": "HTMLModel",
          "model_module_version": "1.5.0",
          "state": {
            "_dom_classes": [],
            "_model_module": "@jupyter-widgets/controls",
            "_model_module_version": "1.5.0",
            "_model_name": "HTMLModel",
            "_view_count": null,
            "_view_module": "@jupyter-widgets/controls",
            "_view_module_version": "1.5.0",
            "_view_name": "HTMLView",
            "description": "",
            "description_tooltip": null,
            "layout": "IPY_MODEL_4ed514ff26134beba1bf90352eef285c",
            "placeholder": "​",
            "style": "IPY_MODEL_0063a8beb0d749eda107e89dd5a389ce",
            "value": "<center> <img\nsrc=https://huggingface.co/front/assets/huggingface_logo-noborder.svg\nalt='Hugging Face'> <br> Copy a token from <a\nhref=\"https://huggingface.co/settings/tokens\" target=\"_blank\">your Hugging Face\ntokens page</a> and paste it below. <br> Immediately click login after copying\nyour token or it might be stored in plain text in this notebook file. </center>"
          }
        },
        "a2f7c609d17b49568f10b63d17ed5b40": {
          "model_module": "@jupyter-widgets/controls",
          "model_name": "PasswordModel",
          "model_module_version": "1.5.0",
          "state": {
            "_dom_classes": [],
            "_model_module": "@jupyter-widgets/controls",
            "_model_module_version": "1.5.0",
            "_model_name": "PasswordModel",
            "_view_count": null,
            "_view_module": "@jupyter-widgets/controls",
            "_view_module_version": "1.5.0",
            "_view_name": "PasswordView",
            "continuous_update": true,
            "description": "Token:",
            "description_tooltip": null,
            "disabled": false,
            "layout": "IPY_MODEL_3c27ba66deb549b6ac46e563062107ea",
            "placeholder": "​",
            "style": "IPY_MODEL_54808715f3494b77a16884ea17e36e03",
            "value": ""
          }
        },
        "2cbad61c19ae4f2d9ce6a4be5bb86cbc": {
          "model_module": "@jupyter-widgets/controls",
          "model_name": "ButtonModel",
          "model_module_version": "1.5.0",
          "state": {
            "_dom_classes": [],
            "_model_module": "@jupyter-widgets/controls",
            "_model_module_version": "1.5.0",
            "_model_name": "ButtonModel",
            "_view_count": null,
            "_view_module": "@jupyter-widgets/controls",
            "_view_module_version": "1.5.0",
            "_view_name": "ButtonView",
            "button_style": "",
            "description": "Login",
            "disabled": false,
            "icon": "",
            "layout": "IPY_MODEL_09b7bfe246804630a8d562df63632003",
            "style": "IPY_MODEL_3c9304d27dd84e6eacf047a061f6b706",
            "tooltip": ""
          }
        },
        "4d5fb3fe61874dd8afba334f30595920": {
          "model_module": "@jupyter-widgets/controls",
          "model_name": "HTMLModel",
          "model_module_version": "1.5.0",
          "state": {
            "_dom_classes": [],
            "_model_module": "@jupyter-widgets/controls",
            "_model_module_version": "1.5.0",
            "_model_name": "HTMLModel",
            "_view_count": null,
            "_view_module": "@jupyter-widgets/controls",
            "_view_module_version": "1.5.0",
            "_view_name": "HTMLView",
            "description": "",
            "description_tooltip": null,
            "layout": "IPY_MODEL_5b3e9d739bd849bc8260fee6a8bceac1",
            "placeholder": "​",
            "style": "IPY_MODEL_897d092e3a3b4282a56799d6bb5139fa",
            "value": "\n<b>Pro Tip:</b> If you don't already have one, you can create a dedicated\n'notebooks' token with 'write' access, that you can then easily reuse for all\nnotebooks. </center>"
          }
        },
        "2c7dba0f06e5470a8981151d4c1af2f5": {
          "model_module": "@jupyter-widgets/base",
          "model_name": "LayoutModel",
          "model_module_version": "1.2.0",
          "state": {
            "_model_module": "@jupyter-widgets/base",
            "_model_module_version": "1.2.0",
            "_model_name": "LayoutModel",
            "_view_count": null,
            "_view_module": "@jupyter-widgets/base",
            "_view_module_version": "1.2.0",
            "_view_name": "LayoutView",
            "align_content": null,
            "align_items": "center",
            "align_self": null,
            "border": null,
            "bottom": null,
            "display": "flex",
            "flex": null,
            "flex_flow": "column",
            "grid_area": null,
            "grid_auto_columns": null,
            "grid_auto_flow": null,
            "grid_auto_rows": null,
            "grid_column": null,
            "grid_gap": null,
            "grid_row": null,
            "grid_template_areas": null,
            "grid_template_columns": null,
            "grid_template_rows": null,
            "height": null,
            "justify_content": null,
            "justify_items": null,
            "left": null,
            "margin": null,
            "max_height": null,
            "max_width": null,
            "min_height": null,
            "min_width": null,
            "object_fit": null,
            "object_position": null,
            "order": null,
            "overflow": null,
            "overflow_x": null,
            "overflow_y": null,
            "padding": null,
            "right": null,
            "top": null,
            "visibility": null,
            "width": "50%"
          }
        },
        "4ed514ff26134beba1bf90352eef285c": {
          "model_module": "@jupyter-widgets/base",
          "model_name": "LayoutModel",
          "model_module_version": "1.2.0",
          "state": {
            "_model_module": "@jupyter-widgets/base",
            "_model_module_version": "1.2.0",
            "_model_name": "LayoutModel",
            "_view_count": null,
            "_view_module": "@jupyter-widgets/base",
            "_view_module_version": "1.2.0",
            "_view_name": "LayoutView",
            "align_content": null,
            "align_items": null,
            "align_self": null,
            "border": null,
            "bottom": null,
            "display": null,
            "flex": null,
            "flex_flow": null,
            "grid_area": null,
            "grid_auto_columns": null,
            "grid_auto_flow": null,
            "grid_auto_rows": null,
            "grid_column": null,
            "grid_gap": null,
            "grid_row": null,
            "grid_template_areas": null,
            "grid_template_columns": null,
            "grid_template_rows": null,
            "height": null,
            "justify_content": null,
            "justify_items": null,
            "left": null,
            "margin": null,
            "max_height": null,
            "max_width": null,
            "min_height": null,
            "min_width": null,
            "object_fit": null,
            "object_position": null,
            "order": null,
            "overflow": null,
            "overflow_x": null,
            "overflow_y": null,
            "padding": null,
            "right": null,
            "top": null,
            "visibility": null,
            "width": null
          }
        },
        "0063a8beb0d749eda107e89dd5a389ce": {
          "model_module": "@jupyter-widgets/controls",
          "model_name": "DescriptionStyleModel",
          "model_module_version": "1.5.0",
          "state": {
            "_model_module": "@jupyter-widgets/controls",
            "_model_module_version": "1.5.0",
            "_model_name": "DescriptionStyleModel",
            "_view_count": null,
            "_view_module": "@jupyter-widgets/base",
            "_view_module_version": "1.2.0",
            "_view_name": "StyleView",
            "description_width": ""
          }
        },
        "3c27ba66deb549b6ac46e563062107ea": {
          "model_module": "@jupyter-widgets/base",
          "model_name": "LayoutModel",
          "model_module_version": "1.2.0",
          "state": {
            "_model_module": "@jupyter-widgets/base",
            "_model_module_version": "1.2.0",
            "_model_name": "LayoutModel",
            "_view_count": null,
            "_view_module": "@jupyter-widgets/base",
            "_view_module_version": "1.2.0",
            "_view_name": "LayoutView",
            "align_content": null,
            "align_items": null,
            "align_self": null,
            "border": null,
            "bottom": null,
            "display": null,
            "flex": null,
            "flex_flow": null,
            "grid_area": null,
            "grid_auto_columns": null,
            "grid_auto_flow": null,
            "grid_auto_rows": null,
            "grid_column": null,
            "grid_gap": null,
            "grid_row": null,
            "grid_template_areas": null,
            "grid_template_columns": null,
            "grid_template_rows": null,
            "height": null,
            "justify_content": null,
            "justify_items": null,
            "left": null,
            "margin": null,
            "max_height": null,
            "max_width": null,
            "min_height": null,
            "min_width": null,
            "object_fit": null,
            "object_position": null,
            "order": null,
            "overflow": null,
            "overflow_x": null,
            "overflow_y": null,
            "padding": null,
            "right": null,
            "top": null,
            "visibility": null,
            "width": null
          }
        },
        "54808715f3494b77a16884ea17e36e03": {
          "model_module": "@jupyter-widgets/controls",
          "model_name": "DescriptionStyleModel",
          "model_module_version": "1.5.0",
          "state": {
            "_model_module": "@jupyter-widgets/controls",
            "_model_module_version": "1.5.0",
            "_model_name": "DescriptionStyleModel",
            "_view_count": null,
            "_view_module": "@jupyter-widgets/base",
            "_view_module_version": "1.2.0",
            "_view_name": "StyleView",
            "description_width": ""
          }
        },
        "09b7bfe246804630a8d562df63632003": {
          "model_module": "@jupyter-widgets/base",
          "model_name": "LayoutModel",
          "model_module_version": "1.2.0",
          "state": {
            "_model_module": "@jupyter-widgets/base",
            "_model_module_version": "1.2.0",
            "_model_name": "LayoutModel",
            "_view_count": null,
            "_view_module": "@jupyter-widgets/base",
            "_view_module_version": "1.2.0",
            "_view_name": "LayoutView",
            "align_content": null,
            "align_items": null,
            "align_self": null,
            "border": null,
            "bottom": null,
            "display": null,
            "flex": null,
            "flex_flow": null,
            "grid_area": null,
            "grid_auto_columns": null,
            "grid_auto_flow": null,
            "grid_auto_rows": null,
            "grid_column": null,
            "grid_gap": null,
            "grid_row": null,
            "grid_template_areas": null,
            "grid_template_columns": null,
            "grid_template_rows": null,
            "height": null,
            "justify_content": null,
            "justify_items": null,
            "left": null,
            "margin": null,
            "max_height": null,
            "max_width": null,
            "min_height": null,
            "min_width": null,
            "object_fit": null,
            "object_position": null,
            "order": null,
            "overflow": null,
            "overflow_x": null,
            "overflow_y": null,
            "padding": null,
            "right": null,
            "top": null,
            "visibility": null,
            "width": null
          }
        },
        "3c9304d27dd84e6eacf047a061f6b706": {
          "model_module": "@jupyter-widgets/controls",
          "model_name": "ButtonStyleModel",
          "model_module_version": "1.5.0",
          "state": {
            "_model_module": "@jupyter-widgets/controls",
            "_model_module_version": "1.5.0",
            "_model_name": "ButtonStyleModel",
            "_view_count": null,
            "_view_module": "@jupyter-widgets/base",
            "_view_module_version": "1.2.0",
            "_view_name": "StyleView",
            "button_color": null,
            "font_weight": ""
          }
        },
        "5b3e9d739bd849bc8260fee6a8bceac1": {
          "model_module": "@jupyter-widgets/base",
          "model_name": "LayoutModel",
          "model_module_version": "1.2.0",
          "state": {
            "_model_module": "@jupyter-widgets/base",
            "_model_module_version": "1.2.0",
            "_model_name": "LayoutModel",
            "_view_count": null,
            "_view_module": "@jupyter-widgets/base",
            "_view_module_version": "1.2.0",
            "_view_name": "LayoutView",
            "align_content": null,
            "align_items": null,
            "align_self": null,
            "border": null,
            "bottom": null,
            "display": null,
            "flex": null,
            "flex_flow": null,
            "grid_area": null,
            "grid_auto_columns": null,
            "grid_auto_flow": null,
            "grid_auto_rows": null,
            "grid_column": null,
            "grid_gap": null,
            "grid_row": null,
            "grid_template_areas": null,
            "grid_template_columns": null,
            "grid_template_rows": null,
            "height": null,
            "justify_content": null,
            "justify_items": null,
            "left": null,
            "margin": null,
            "max_height": null,
            "max_width": null,
            "min_height": null,
            "min_width": null,
            "object_fit": null,
            "object_position": null,
            "order": null,
            "overflow": null,
            "overflow_x": null,
            "overflow_y": null,
            "padding": null,
            "right": null,
            "top": null,
            "visibility": null,
            "width": null
          }
        },
        "897d092e3a3b4282a56799d6bb5139fa": {
          "model_module": "@jupyter-widgets/controls",
          "model_name": "DescriptionStyleModel",
          "model_module_version": "1.5.0",
          "state": {
            "_model_module": "@jupyter-widgets/controls",
            "_model_module_version": "1.5.0",
            "_model_name": "DescriptionStyleModel",
            "_view_count": null,
            "_view_module": "@jupyter-widgets/base",
            "_view_module_version": "1.2.0",
            "_view_name": "StyleView",
            "description_width": ""
          }
        },
        "85af5833ed4c4c98a05b2c1b637d9b82": {
          "model_module": "@jupyter-widgets/controls",
          "model_name": "HBoxModel",
          "model_module_version": "1.5.0",
          "state": {
            "_dom_classes": [],
            "_model_module": "@jupyter-widgets/controls",
            "_model_module_version": "1.5.0",
            "_model_name": "HBoxModel",
            "_view_count": null,
            "_view_module": "@jupyter-widgets/controls",
            "_view_module_version": "1.5.0",
            "_view_name": "HBoxView",
            "box_style": "",
            "children": [
              "IPY_MODEL_154ec9e73266423b9a15287cb97eb76b",
              "IPY_MODEL_e44897fb5d9845249ad29b429c79be1e",
              "IPY_MODEL_1b526e3d37f146aba8dce3a347b79110"
            ],
            "layout": "IPY_MODEL_a41816640b91483ea6379d73e9c0cb45"
          }
        },
        "154ec9e73266423b9a15287cb97eb76b": {
          "model_module": "@jupyter-widgets/controls",
          "model_name": "HTMLModel",
          "model_module_version": "1.5.0",
          "state": {
            "_dom_classes": [],
            "_model_module": "@jupyter-widgets/controls",
            "_model_module_version": "1.5.0",
            "_model_name": "HTMLModel",
            "_view_count": null,
            "_view_module": "@jupyter-widgets/controls",
            "_view_module_version": "1.5.0",
            "_view_name": "HTMLView",
            "description": "",
            "description_tooltip": null,
            "layout": "IPY_MODEL_aecb900db9284f8abc92a8b4e8af2907",
            "placeholder": "​",
            "style": "IPY_MODEL_506f07c5c6e04f6e9b099b5e4f6ab10a",
            "value": "Upload file pytorch_model.bin: 100%"
          }
        },
        "e44897fb5d9845249ad29b429c79be1e": {
          "model_module": "@jupyter-widgets/controls",
          "model_name": "FloatProgressModel",
          "model_module_version": "1.5.0",
          "state": {
            "_dom_classes": [],
            "_model_module": "@jupyter-widgets/controls",
            "_model_module_version": "1.5.0",
            "_model_name": "FloatProgressModel",
            "_view_count": null,
            "_view_module": "@jupyter-widgets/controls",
            "_view_module_version": "1.5.0",
            "_view_name": "ProgressView",
            "bar_style": "success",
            "description": "",
            "description_tooltip": null,
            "layout": "IPY_MODEL_4ed45e7b7e9f46b5bed99d56f0abcf6a",
            "max": 350390097,
            "min": 0,
            "orientation": "horizontal",
            "style": "IPY_MODEL_ca81abfb886c4545aff9cf4bf721c568",
            "value": 350390097
          }
        },
        "1b526e3d37f146aba8dce3a347b79110": {
          "model_module": "@jupyter-widgets/controls",
          "model_name": "HTMLModel",
          "model_module_version": "1.5.0",
          "state": {
            "_dom_classes": [],
            "_model_module": "@jupyter-widgets/controls",
            "_model_module_version": "1.5.0",
            "_model_name": "HTMLModel",
            "_view_count": null,
            "_view_module": "@jupyter-widgets/controls",
            "_view_module_version": "1.5.0",
            "_view_name": "HTMLView",
            "description": "",
            "description_tooltip": null,
            "layout": "IPY_MODEL_6e2d48e343cc423c958f3adc80296933",
            "placeholder": "​",
            "style": "IPY_MODEL_124bec8c56e6499fbe37c5683fa9d261",
            "value": " 334M/334M [04:38&lt;00:00, 625kB/s]"
          }
        },
        "a41816640b91483ea6379d73e9c0cb45": {
          "model_module": "@jupyter-widgets/base",
          "model_name": "LayoutModel",
          "model_module_version": "1.2.0",
          "state": {
            "_model_module": "@jupyter-widgets/base",
            "_model_module_version": "1.2.0",
            "_model_name": "LayoutModel",
            "_view_count": null,
            "_view_module": "@jupyter-widgets/base",
            "_view_module_version": "1.2.0",
            "_view_name": "LayoutView",
            "align_content": null,
            "align_items": null,
            "align_self": null,
            "border": null,
            "bottom": null,
            "display": null,
            "flex": null,
            "flex_flow": null,
            "grid_area": null,
            "grid_auto_columns": null,
            "grid_auto_flow": null,
            "grid_auto_rows": null,
            "grid_column": null,
            "grid_gap": null,
            "grid_row": null,
            "grid_template_areas": null,
            "grid_template_columns": null,
            "grid_template_rows": null,
            "height": null,
            "justify_content": null,
            "justify_items": null,
            "left": null,
            "margin": null,
            "max_height": null,
            "max_width": null,
            "min_height": null,
            "min_width": null,
            "object_fit": null,
            "object_position": null,
            "order": null,
            "overflow": null,
            "overflow_x": null,
            "overflow_y": null,
            "padding": null,
            "right": null,
            "top": null,
            "visibility": null,
            "width": null
          }
        },
        "aecb900db9284f8abc92a8b4e8af2907": {
          "model_module": "@jupyter-widgets/base",
          "model_name": "LayoutModel",
          "model_module_version": "1.2.0",
          "state": {
            "_model_module": "@jupyter-widgets/base",
            "_model_module_version": "1.2.0",
            "_model_name": "LayoutModel",
            "_view_count": null,
            "_view_module": "@jupyter-widgets/base",
            "_view_module_version": "1.2.0",
            "_view_name": "LayoutView",
            "align_content": null,
            "align_items": null,
            "align_self": null,
            "border": null,
            "bottom": null,
            "display": null,
            "flex": null,
            "flex_flow": null,
            "grid_area": null,
            "grid_auto_columns": null,
            "grid_auto_flow": null,
            "grid_auto_rows": null,
            "grid_column": null,
            "grid_gap": null,
            "grid_row": null,
            "grid_template_areas": null,
            "grid_template_columns": null,
            "grid_template_rows": null,
            "height": null,
            "justify_content": null,
            "justify_items": null,
            "left": null,
            "margin": null,
            "max_height": null,
            "max_width": null,
            "min_height": null,
            "min_width": null,
            "object_fit": null,
            "object_position": null,
            "order": null,
            "overflow": null,
            "overflow_x": null,
            "overflow_y": null,
            "padding": null,
            "right": null,
            "top": null,
            "visibility": null,
            "width": null
          }
        },
        "506f07c5c6e04f6e9b099b5e4f6ab10a": {
          "model_module": "@jupyter-widgets/controls",
          "model_name": "DescriptionStyleModel",
          "model_module_version": "1.5.0",
          "state": {
            "_model_module": "@jupyter-widgets/controls",
            "_model_module_version": "1.5.0",
            "_model_name": "DescriptionStyleModel",
            "_view_count": null,
            "_view_module": "@jupyter-widgets/base",
            "_view_module_version": "1.2.0",
            "_view_name": "StyleView",
            "description_width": ""
          }
        },
        "4ed45e7b7e9f46b5bed99d56f0abcf6a": {
          "model_module": "@jupyter-widgets/base",
          "model_name": "LayoutModel",
          "model_module_version": "1.2.0",
          "state": {
            "_model_module": "@jupyter-widgets/base",
            "_model_module_version": "1.2.0",
            "_model_name": "LayoutModel",
            "_view_count": null,
            "_view_module": "@jupyter-widgets/base",
            "_view_module_version": "1.2.0",
            "_view_name": "LayoutView",
            "align_content": null,
            "align_items": null,
            "align_self": null,
            "border": null,
            "bottom": null,
            "display": null,
            "flex": null,
            "flex_flow": null,
            "grid_area": null,
            "grid_auto_columns": null,
            "grid_auto_flow": null,
            "grid_auto_rows": null,
            "grid_column": null,
            "grid_gap": null,
            "grid_row": null,
            "grid_template_areas": null,
            "grid_template_columns": null,
            "grid_template_rows": null,
            "height": null,
            "justify_content": null,
            "justify_items": null,
            "left": null,
            "margin": null,
            "max_height": null,
            "max_width": null,
            "min_height": null,
            "min_width": null,
            "object_fit": null,
            "object_position": null,
            "order": null,
            "overflow": null,
            "overflow_x": null,
            "overflow_y": null,
            "padding": null,
            "right": null,
            "top": null,
            "visibility": null,
            "width": null
          }
        },
        "ca81abfb886c4545aff9cf4bf721c568": {
          "model_module": "@jupyter-widgets/controls",
          "model_name": "ProgressStyleModel",
          "model_module_version": "1.5.0",
          "state": {
            "_model_module": "@jupyter-widgets/controls",
            "_model_module_version": "1.5.0",
            "_model_name": "ProgressStyleModel",
            "_view_count": null,
            "_view_module": "@jupyter-widgets/base",
            "_view_module_version": "1.2.0",
            "_view_name": "StyleView",
            "bar_color": null,
            "description_width": ""
          }
        },
        "6e2d48e343cc423c958f3adc80296933": {
          "model_module": "@jupyter-widgets/base",
          "model_name": "LayoutModel",
          "model_module_version": "1.2.0",
          "state": {
            "_model_module": "@jupyter-widgets/base",
            "_model_module_version": "1.2.0",
            "_model_name": "LayoutModel",
            "_view_count": null,
            "_view_module": "@jupyter-widgets/base",
            "_view_module_version": "1.2.0",
            "_view_name": "LayoutView",
            "align_content": null,
            "align_items": null,
            "align_self": null,
            "border": null,
            "bottom": null,
            "display": null,
            "flex": null,
            "flex_flow": null,
            "grid_area": null,
            "grid_auto_columns": null,
            "grid_auto_flow": null,
            "grid_auto_rows": null,
            "grid_column": null,
            "grid_gap": null,
            "grid_row": null,
            "grid_template_areas": null,
            "grid_template_columns": null,
            "grid_template_rows": null,
            "height": null,
            "justify_content": null,
            "justify_items": null,
            "left": null,
            "margin": null,
            "max_height": null,
            "max_width": null,
            "min_height": null,
            "min_width": null,
            "object_fit": null,
            "object_position": null,
            "order": null,
            "overflow": null,
            "overflow_x": null,
            "overflow_y": null,
            "padding": null,
            "right": null,
            "top": null,
            "visibility": null,
            "width": null
          }
        },
        "124bec8c56e6499fbe37c5683fa9d261": {
          "model_module": "@jupyter-widgets/controls",
          "model_name": "DescriptionStyleModel",
          "model_module_version": "1.5.0",
          "state": {
            "_model_module": "@jupyter-widgets/controls",
            "_model_module_version": "1.5.0",
            "_model_name": "DescriptionStyleModel",
            "_view_count": null,
            "_view_module": "@jupyter-widgets/base",
            "_view_module_version": "1.2.0",
            "_view_name": "StyleView",
            "description_width": ""
          }
        }
      }
    },
    "gpuClass": "standard"
  },
  "cells": [
    {
      "cell_type": "code",
      "source": [
        "!sudo apt install git-lfs --upgrade"
      ],
      "metadata": {
        "colab": {
          "base_uri": "https://localhost:8080/"
        },
        "id": "fbcr9MzoE3ma",
        "outputId": "32f92c2c-d1b3-48f8-826e-611af2dd837a"
      },
      "execution_count": null,
      "outputs": [
        {
          "output_type": "stream",
          "name": "stdout",
          "text": [
            "Reading package lists... Done\n",
            "Building dependency tree       \n",
            "Reading state information... Done\n",
            "git-lfs is already the newest version (2.3.4-1).\n",
            "The following package was automatically installed and is no longer required:\n",
            "  libnvidia-common-460\n",
            "Use 'sudo apt autoremove' to remove it.\n",
            "0 upgraded, 0 newly installed, 0 to remove and 20 not upgraded.\n"
          ]
        }
      ]
    },
    {
      "cell_type": "code",
      "source": [
        "!git init .\n",
        "!git lfs install"
      ],
      "metadata": {
        "colab": {
          "base_uri": "https://localhost:8080/"
        },
        "id": "Nx8bmtABE5Oa",
        "outputId": "ebb1ea3e-c6c0-409d-bf22-591a72a69a67"
      },
      "execution_count": null,
      "outputs": [
        {
          "output_type": "stream",
          "name": "stdout",
          "text": [
            "Initialized empty Git repository in /content/.git/\n",
            "Updated git hooks.\n",
            "Git LFS initialized.\n"
          ]
        }
      ]
    },
    {
      "cell_type": "code",
      "execution_count": null,
      "metadata": {
        "id": "aXRcBT1q95pC"
      },
      "outputs": [],
      "source": [
        "%%capture\n",
        "!pip install datasets transformers wandb"
      ]
    },
    {
      "cell_type": "code",
      "source": [
        "import wandb\n",
        "from datasets import load_dataset\n",
        "from transformers import (\n",
        "    AutoFeatureExtractor,\n",
        "    AutoModelForImageClassification,\n",
        "    Trainer,\n",
        "    TrainingArguments,\n",
        ")\n",
        "from sklearn.model_selection import StratifiedShuffleSplit\n",
        "from torchvision.transforms import (\n",
        "    CenterCrop,\n",
        "    RandomErasing,\n",
        "    RandomAutocontrast,\n",
        "    Compose,\n",
        "    Normalize,\n",
        "    RandomHorizontalFlip,\n",
        "    RandomResizedCrop,\n",
        "    Resize,\n",
        "    RandomAdjustSharpness,\n",
        "    ToTensor,\n",
        ")\n",
        "import torch\n",
        "import datasets\n",
        "import numpy as np\n",
        "from datasets import load_metric"
      ],
      "metadata": {
        "id": "xNA_0iXM-5vn"
      },
      "execution_count": null,
      "outputs": []
    },
    {
      "cell_type": "code",
      "source": [
        "%env WANDB_PROJECT=snorkel_training_data\n",
        "%env WANDB_ENTITY=imagein"
      ],
      "metadata": {
        "colab": {
          "base_uri": "https://localhost:8080/"
        },
        "id": "ItJKPvZi-Ahh",
        "outputId": "0f1cbc81-c503-491d-f234-385d53495bf8"
      },
      "execution_count": null,
      "outputs": [
        {
          "output_type": "stream",
          "name": "stdout",
          "text": [
            "env: WANDB_PROJECT=snorkel_training_data\n",
            "env: WANDB_ENTITY=imagein\n"
          ]
        }
      ]
    },
    {
      "cell_type": "code",
      "source": [
        "wandb.login()"
      ],
      "metadata": {
        "colab": {
          "base_uri": "https://localhost:8080/",
          "height": 165
        },
        "id": "-IS8_iYO-6yT",
        "outputId": "f5f3290a-523b-454f-c0b6-8486ff311d5e"
      },
      "execution_count": null,
      "outputs": [
        {
          "output_type": "stream",
          "name": "stderr",
          "text": [
            "ERROR:wandb.jupyter:Failed to detect the name of this notebook, you can set it manually with the WANDB_NOTEBOOK_NAME environment variable to enable code saving.\n"
          ]
        },
        {
          "output_type": "display_data",
          "data": {
            "text/plain": [
              "<IPython.core.display.Javascript object>"
            ],
            "application/javascript": [
              "\n",
              "        window._wandbApiKey = new Promise((resolve, reject) => {\n",
              "            function loadScript(url) {\n",
              "            return new Promise(function(resolve, reject) {\n",
              "                let newScript = document.createElement(\"script\");\n",
              "                newScript.onerror = reject;\n",
              "                newScript.onload = resolve;\n",
              "                document.body.appendChild(newScript);\n",
              "                newScript.src = url;\n",
              "            });\n",
              "            }\n",
              "            loadScript(\"https://cdn.jsdelivr.net/npm/postmate/build/postmate.min.js\").then(() => {\n",
              "            const iframe = document.createElement('iframe')\n",
              "            iframe.style.cssText = \"width:0;height:0;border:none\"\n",
              "            document.body.appendChild(iframe)\n",
              "            const handshake = new Postmate({\n",
              "                container: iframe,\n",
              "                url: 'https://wandb.ai/authorize'\n",
              "            });\n",
              "            const timeout = setTimeout(() => reject(\"Couldn't auto authenticate\"), 5000)\n",
              "            handshake.then(function(child) {\n",
              "                child.on('authorize', data => {\n",
              "                    clearTimeout(timeout)\n",
              "                    resolve(data)\n",
              "                });\n",
              "            });\n",
              "            })\n",
              "        });\n",
              "    "
            ]
          },
          "metadata": {}
        },
        {
          "output_type": "stream",
          "name": "stderr",
          "text": [
            "\u001b[34m\u001b[1mwandb\u001b[0m: Logging into wandb.ai. (Learn how to deploy a W&B server locally: https://wandb.me/wandb-server)\n",
            "\u001b[34m\u001b[1mwandb\u001b[0m: You can find your API key in your browser here: https://wandb.ai/authorize\n",
            "wandb: Paste an API key from your profile and hit enter, or press ctrl+c to quit: "
          ]
        },
        {
          "name": "stdout",
          "output_type": "stream",
          "text": [
            "··········\n"
          ]
        },
        {
          "output_type": "stream",
          "name": "stderr",
          "text": [
            "\u001b[34m\u001b[1mwandb\u001b[0m: Appending key for api.wandb.ai to your netrc file: /root/.netrc\n"
          ]
        },
        {
          "output_type": "execute_result",
          "data": {
            "text/plain": [
              "True"
            ]
          },
          "metadata": {},
          "execution_count": 6
        }
      ]
    },
    {
      "cell_type": "code",
      "source": [
        "from huggingface_hub import notebook_login"
      ],
      "metadata": {
        "id": "Z_L_SA0bOaTn"
      },
      "execution_count": null,
      "outputs": []
    },
    {
      "cell_type": "code",
      "source": [
        "notebook_login()"
      ],
      "metadata": {
        "colab": {
          "base_uri": "https://localhost:8080/",
          "height": 301,
          "referenced_widgets": [
            "0365f2ef3b1149aa845a2f8c8c6e7cb4",
            "5ee0eac5160946449fc7a3638b319d68",
            "a2f7c609d17b49568f10b63d17ed5b40",
            "2cbad61c19ae4f2d9ce6a4be5bb86cbc",
            "4d5fb3fe61874dd8afba334f30595920",
            "2c7dba0f06e5470a8981151d4c1af2f5",
            "4ed514ff26134beba1bf90352eef285c",
            "0063a8beb0d749eda107e89dd5a389ce",
            "3c27ba66deb549b6ac46e563062107ea",
            "54808715f3494b77a16884ea17e36e03",
            "09b7bfe246804630a8d562df63632003",
            "3c9304d27dd84e6eacf047a061f6b706",
            "5b3e9d739bd849bc8260fee6a8bceac1",
            "897d092e3a3b4282a56799d6bb5139fa"
          ]
        },
        "id": "eZypXgtGOdBL",
        "outputId": "01bf0e4b-736a-4a1d-acb6-771df6b4e0b6"
      },
      "execution_count": null,
      "outputs": [
        {
          "output_type": "stream",
          "name": "stdout",
          "text": [
            "Login successful\n",
            "Your token has been saved to /root/.huggingface/token\n"
          ]
        }
      ]
    },
    {
      "cell_type": "code",
      "source": [
        "!git config --global credential.helper store"
      ],
      "metadata": {
        "id": "oGan787vG3KS"
      },
      "execution_count": null,
      "outputs": []
    },
    {
      "cell_type": "code",
      "source": [
        "MODEL_CHECKPOINT = \"facebook/convnext-base-224\"\n",
        "TEST_DATASET_CHECKPOINT = \"ImageIN/ImageIn_annotations\"\n",
        "TRAIN_DATASET_CHECKPOINT = \"ImageIN/unlabelled_IA_with_snorkel_labels\""
      ],
      "metadata": {
        "id": "j7NNUm_E_Trh"
      },
      "execution_count": null,
      "outputs": []
    },
    {
      "cell_type": "code",
      "source": [
        "FP_16 = torch.cuda.is_available()"
      ],
      "metadata": {
        "id": "j-iOUjDTLafc"
      },
      "execution_count": null,
      "outputs": []
    },
    {
      "cell_type": "code",
      "source": [
        "train_dataset = load_dataset(TRAIN_DATASET_CHECKPOINT, split=\"train\",use_auth_token=True)\n",
        "test_dataset = load_dataset(TEST_DATASET_CHECKPOINT, split='train')"
      ],
      "metadata": {
        "colab": {
          "base_uri": "https://localhost:8080/"
        },
        "id": "aQ8IrIo5_Qxm",
        "outputId": "de9f0438-b886-4ed1-acf6-be97249d3616"
      },
      "execution_count": null,
      "outputs": [
        {
          "output_type": "stream",
          "name": "stderr",
          "text": [
            "/usr/local/lib/python3.7/dist-packages/huggingface_hub/utils/_deprecation.py:97: FutureWarning: Deprecated argument(s) used in 'dataset_info': token. Will not be supported from version '0.12'.\n",
            "  warnings.warn(message, FutureWarning)\n",
            "WARNING:datasets.builder:Using custom data configuration ImageIN--unlabelled_IA_with_snorkel_labels-4832b7bf3c08d8d9\n",
            "WARNING:datasets.builder:Found cached dataset parquet (/root/.cache/huggingface/datasets/ImageIN___parquet/ImageIN--unlabelled_IA_with_snorkel_labels-4832b7bf3c08d8d9/0.0.0/2a3b91fbd88a2c90d1dbbb32b460cf621d31bd5b05b934492fdef7d8d6f236ec)\n",
            "WARNING:datasets.builder:Using custom data configuration ImageIN--ImageIn_annotations-3c053cc2ce1c24bf\n",
            "WARNING:datasets.builder:Found cached dataset parquet (/root/.cache/huggingface/datasets/ImageIN___parquet/ImageIN--ImageIn_annotations-3c053cc2ce1c24bf/0.0.0/2a3b91fbd88a2c90d1dbbb32b460cf621d31bd5b05b934492fdef7d8d6f236ec)\n"
          ]
        }
      ]
    },
    {
      "cell_type": "markdown",
      "source": [
        "## Remove any data from train that is also in test data"
      ],
      "metadata": {
        "id": "EJ2Y9Pb6PonE"
      }
    },
    {
      "cell_type": "code",
      "source": [
        "test_images = set(test_dataset['image'])"
      ],
      "metadata": {
        "id": "v7yGhD5aPjDE"
      },
      "execution_count": null,
      "outputs": []
    },
    {
      "cell_type": "code",
      "source": [
        "train_dataset = train_dataset.filter(lambda x: x['image'] not in test_images)"
      ],
      "metadata": {
        "colab": {
          "base_uri": "https://localhost:8080/"
        },
        "id": "umdRBu8bQnHP",
        "outputId": "b9cbb00b-11ae-49fa-e0a7-8cc7dac55f58"
      },
      "execution_count": null,
      "outputs": [
        {
          "output_type": "stream",
          "name": "stderr",
          "text": [
            "WARNING:datasets.arrow_dataset:Loading cached processed dataset at /root/.cache/huggingface/datasets/ImageIN___parquet/ImageIN--unlabelled_IA_with_snorkel_labels-4832b7bf3c08d8d9/0.0.0/2a3b91fbd88a2c90d1dbbb32b460cf621d31bd5b05b934492fdef7d8d6f236ec/cache-c5f36939bf7ce760.arrow\n"
          ]
        }
      ]
    },
    {
      "cell_type": "code",
      "source": [
        "from toolz import frequencies"
      ],
      "metadata": {
        "id": "H1JVwj8oGUMQ"
      },
      "execution_count": null,
      "outputs": []
    },
    {
      "cell_type": "code",
      "source": [
        "freqs = frequencies(train_dataset['snorkel_label'])\n",
        "freqs"
      ],
      "metadata": {
        "colab": {
          "base_uri": "https://localhost:8080/"
        },
        "outputId": "984e8f5d-9601-4ede-d626-ecb0c616b5a0",
        "id": "NfYr1cakGUMR"
      },
      "execution_count": null,
      "outputs": [
        {
          "output_type": "execute_result",
          "data": {
            "text/plain": [
              "{0: 16163, 1: 50657}"
            ]
          },
          "metadata": {},
          "execution_count": 219
        }
      ]
    },
    {
      "cell_type": "code",
      "source": [
        "not_illustrated = train_dataset.filter(lambda x: x['snorkel_label'] == 1)\n",
        "illustrated = train_dataset.filter(lambda x: x['snorkel_label'] == 0)"
      ],
      "metadata": {
        "colab": {
          "base_uri": "https://localhost:8080/"
        },
        "outputId": "edc8beb0-647e-4754-b9ce-5648e3dedd1e",
        "id": "hS2QHVNhGUMS"
      },
      "execution_count": null,
      "outputs": [
        {
          "output_type": "stream",
          "name": "stderr",
          "text": [
            "WARNING:datasets.arrow_dataset:Loading cached processed dataset at /root/.cache/huggingface/datasets/ImageIN___parquet/ImageIN--unlabelled_IA_with_snorkel_labels-4832b7bf3c08d8d9/0.0.0/2a3b91fbd88a2c90d1dbbb32b460cf621d31bd5b05b934492fdef7d8d6f236ec/cache-ce65c88f15dd1a37.arrow\n",
            "WARNING:datasets.arrow_dataset:Loading cached processed dataset at /root/.cache/huggingface/datasets/ImageIN___parquet/ImageIN--unlabelled_IA_with_snorkel_labels-4832b7bf3c08d8d9/0.0.0/2a3b91fbd88a2c90d1dbbb32b460cf621d31bd5b05b934492fdef7d8d6f236ec/cache-03bdc595bc0b60c1.arrow\n"
          ]
        }
      ]
    },
    {
      "cell_type": "code",
      "source": [
        "import random"
      ],
      "metadata": {
        "id": "9vogRMopGUMT"
      },
      "execution_count": null,
      "outputs": []
    },
    {
      "cell_type": "code",
      "source": [
        "max_sample = freqs[0] \n",
        "sample = random.sample(range(len(not_illustrated)),max_sample)\n",
        "not_illustrated = not_illustrated.select(sample)"
      ],
      "metadata": {
        "id": "5X800ICgGUMU"
      },
      "execution_count": null,
      "outputs": []
    },
    {
      "cell_type": "code",
      "source": [
        "from datasets import concatenate_datasets"
      ],
      "metadata": {
        "id": "WC_FCa68GUMV"
      },
      "execution_count": null,
      "outputs": []
    },
    {
      "cell_type": "code",
      "source": [
        "train_dataset = concatenate_datasets([not_illustrated, illustrated])"
      ],
      "metadata": {
        "id": "Vf0XXdahGUMW"
      },
      "execution_count": null,
      "outputs": []
    },
    {
      "cell_type": "code",
      "source": [
        "train_dataset"
      ],
      "metadata": {
        "colab": {
          "base_uri": "https://localhost:8080/"
        },
        "id": "tKNfHtgDQwGK",
        "outputId": "8e194549-5f81-4b4f-84a0-bbecd3d96587"
      },
      "execution_count": null,
      "outputs": [
        {
          "output_type": "execute_result",
          "data": {
            "text/plain": [
              "Dataset({\n",
              "    features: ['image', 'manifest_url', 'license', 'label', 'attribution', 'loaded_image', 'detr_preds_count', 'manuscript_count', 'mean_rgb', 'illustration_classifier', 'snorkel_label_model_probs', 'snorkel_label'],\n",
              "    num_rows: 32326\n",
              "})"
            ]
          },
          "metadata": {},
          "execution_count": 225
        }
      ]
    },
    {
      "cell_type": "code",
      "source": [
        "train_dataset.column_names"
      ],
      "metadata": {
        "colab": {
          "base_uri": "https://localhost:8080/"
        },
        "id": "6E6ipeKSBaAL",
        "outputId": "d5170042-1ad8-477d-d4df-d0a25d70cf4a"
      },
      "execution_count": null,
      "outputs": [
        {
          "output_type": "execute_result",
          "data": {
            "text/plain": [
              "['image',\n",
              " 'manifest_url',\n",
              " 'license',\n",
              " 'label',\n",
              " 'attribution',\n",
              " 'loaded_image',\n",
              " 'detr_preds_count',\n",
              " 'manuscript_count',\n",
              " 'mean_rgb',\n",
              " 'illustration_classifier',\n",
              " 'snorkel_label_model_probs',\n",
              " 'snorkel_label']"
            ]
          },
          "metadata": {},
          "execution_count": 226
        }
      ]
    },
    {
      "cell_type": "code",
      "source": [
        "train_dataset = train_dataset.remove_columns(\n",
        "    [name for name in train_dataset.column_names if name not in {\"loaded_image\", \"snorkel_label\"}]\n",
        ")"
      ],
      "metadata": {
        "id": "S1vFWV-wAZpe"
      },
      "execution_count": null,
      "outputs": []
    },
    {
      "cell_type": "code",
      "source": [
        "test_dataset = test_dataset.remove_columns(\n",
        "    [name for name in test_dataset.column_names if name not in {\"loaded_image\", \"choice\"}]\n",
        ")"
      ],
      "metadata": {
        "id": "SP7SuECYRYX7"
      },
      "execution_count": null,
      "outputs": []
    },
    {
      "cell_type": "code",
      "source": [
        "train_ds = train_dataset.rename_column(\"snorkel_label\", \"labels\")\n",
        "valid_ds = test_dataset.rename_column(\"choice\", \"labels\")"
      ],
      "metadata": {
        "id": "X9266D8RAkfS"
      },
      "execution_count": null,
      "outputs": []
    },
    {
      "cell_type": "code",
      "source": [
        "valid_ds.unique('labels')"
      ],
      "metadata": {
        "colab": {
          "base_uri": "https://localhost:8080/"
        },
        "id": "4YeieGHAKvPD",
        "outputId": "5e09b269-7c92-42c0-b59f-b03ee19be8ab"
      },
      "execution_count": null,
      "outputs": [
        {
          "output_type": "execute_result",
          "data": {
            "text/plain": [
              "['not-illustrated', 'illustrated']"
            ]
          },
          "metadata": {},
          "execution_count": 230
        }
      ]
    },
    {
      "cell_type": "code",
      "source": [
        "valid_ds = valid_ds.cast_column('labels', datasets.ClassLabel(names=['illustrated','not-illustrated']))"
      ],
      "metadata": {
        "colab": {
          "base_uri": "https://localhost:8080/"
        },
        "id": "iFriCJt1LFYS",
        "outputId": "be40afc8-1a88-4f9a-ee47-374160af085c"
      },
      "execution_count": null,
      "outputs": [
        {
          "output_type": "stream",
          "name": "stderr",
          "text": [
            "WARNING:datasets.arrow_dataset:Loading cached processed dataset at /root/.cache/huggingface/datasets/ImageIN___parquet/ImageIN--ImageIn_annotations-3c053cc2ce1c24bf/0.0.0/2a3b91fbd88a2c90d1dbbb32b460cf621d31bd5b05b934492fdef7d8d6f236ec/cache-e0c57dd4c2d71170.arrow\n"
          ]
        }
      ]
    },
    {
      "cell_type": "code",
      "source": [
        "#ds = train_ds.train_test_split(0.3)"
      ],
      "metadata": {
        "id": "u3Tf-Ee2RrBU"
      },
      "execution_count": null,
      "outputs": []
    },
    {
      "cell_type": "code",
      "source": [
        "#train_ds, valid_ds = ds['train'], ds['test']"
      ],
      "metadata": {
        "id": "hZnt1kLASM4w"
      },
      "execution_count": null,
      "outputs": []
    },
    {
      "cell_type": "code",
      "source": [
        "def prepare_transforms(model_checkpoint, train_ds, valid_ds, test_ds=None):\n",
        "    feature_extractor = AutoFeatureExtractor.from_pretrained(model_checkpoint)\n",
        "    normalize = Normalize(\n",
        "        mean=feature_extractor.image_mean, std=feature_extractor.image_std\n",
        "    )\n",
        "    _train_transforms = Compose(\n",
        "        [\n",
        "            Resize((feature_extractor.size, feature_extractor.size)),\n",
        "            RandomAdjustSharpness(0.1),\n",
        "            RandomAutocontrast(),\n",
        "            ToTensor(),\n",
        "            normalize,\n",
        "            RandomErasing(),\n",
        "        ]\n",
        "    )\n",
        "\n",
        "    _val_transforms = Compose(\n",
        "        [\n",
        "            Resize((feature_extractor.size, feature_extractor.size)),\n",
        "            ToTensor(),\n",
        "            normalize,\n",
        "        ]\n",
        "    )\n",
        "\n",
        "    def train_transforms(examples):\n",
        "        examples[\"pixel_values\"] = [\n",
        "            _train_transforms(image.convert(\"RGB\"))\n",
        "            for image in examples[\"loaded_image\"]\n",
        "        ]\n",
        "        return examples\n",
        "\n",
        "    def val_transforms(examples):\n",
        "        examples[\"pixel_values\"] = [\n",
        "            _val_transforms(image.convert(\"RGB\")) for image in examples[\"loaded_image\"]\n",
        "        ]\n",
        "        return examples\n",
        "\n",
        "    train_ds.set_transform(train_transforms)\n",
        "    valid_ds.set_transform(val_transforms)\n",
        "\n",
        "    return train_ds, valid_ds"
      ],
      "metadata": {
        "id": "jlkPNmct_Y0d"
      },
      "execution_count": null,
      "outputs": []
    },
    {
      "cell_type": "code",
      "source": [
        "train_ds, valid_ds = prepare_transforms(MODEL_CHECKPOINT, train_ds, valid_ds)"
      ],
      "metadata": {
        "colab": {
          "base_uri": "https://localhost:8080/"
        },
        "id": "63EtQLSgALy7",
        "outputId": "3b209daa-51bf-42cd-a28a-cfdd4a58c6bd"
      },
      "execution_count": null,
      "outputs": [
        {
          "output_type": "stream",
          "name": "stderr",
          "text": [
            "loading configuration file preprocessor_config.json from cache at /root/.cache/huggingface/hub/models--facebook--convnext-base-224/snapshots/eda2970bc74154a2af92300316deecd49f72bea8/preprocessor_config.json\n",
            "Feature extractor ConvNextFeatureExtractor {\n",
            "  \"crop_pct\": 0.875,\n",
            "  \"do_normalize\": true,\n",
            "  \"do_resize\": true,\n",
            "  \"feature_extractor_type\": \"ConvNextFeatureExtractor\",\n",
            "  \"image_mean\": [\n",
            "    0.485,\n",
            "    0.456,\n",
            "    0.406\n",
            "  ],\n",
            "  \"image_std\": [\n",
            "    0.229,\n",
            "    0.224,\n",
            "    0.225\n",
            "  ],\n",
            "  \"resample\": 3,\n",
            "  \"size\": 224\n",
            "}\n",
            "\n"
          ]
        }
      ]
    },
    {
      "cell_type": "code",
      "source": [
        "train_ds, valid_ds"
      ],
      "metadata": {
        "colab": {
          "base_uri": "https://localhost:8080/"
        },
        "id": "47gYQronBTB8",
        "outputId": "0d1deb6b-0a13-4a0c-dcf3-4b85e7dcb350"
      },
      "execution_count": null,
      "outputs": [
        {
          "output_type": "execute_result",
          "data": {
            "text/plain": [
              "(Dataset({\n",
              "     features: ['loaded_image', 'labels'],\n",
              "     num_rows: 32326\n",
              " }), Dataset({\n",
              "     features: ['labels', 'loaded_image'],\n",
              "     num_rows: 1896\n",
              " }))"
            ]
          },
          "metadata": {},
          "execution_count": 235
        }
      ]
    },
    {
      "cell_type": "code",
      "source": [
        "valid_ds[0]"
      ],
      "metadata": {
        "colab": {
          "base_uri": "https://localhost:8080/"
        },
        "id": "FtpG7qV9WDoH",
        "outputId": "7816fc6e-eb17-4823-b8f4-d6cc2f5d0b97"
      },
      "execution_count": null,
      "outputs": [
        {
          "output_type": "execute_result",
          "data": {
            "text/plain": [
              "{'labels': 1,\n",
              " 'loaded_image': <PIL.JpegImagePlugin.JpegImageFile image mode=RGB size=1757x3005 at 0x7F2108337750>,\n",
              " 'pixel_values': tensor([[[1.4269, 1.4440, 1.4269,  ..., 1.5810, 1.5810, 1.5982],\n",
              "          [1.4269, 1.4440, 1.3927,  ..., 1.5810, 1.5639, 1.5125],\n",
              "          [1.3927, 1.4440, 1.4440,  ..., 1.5810, 1.5639, 1.5639],\n",
              "          ...,\n",
              "          [1.3242, 1.3584, 1.4098,  ..., 1.6324, 1.6324, 1.6153],\n",
              "          [1.3755, 1.3755, 1.3927,  ..., 1.6324, 1.6324, 1.6153],\n",
              "          [1.3584, 1.3584, 1.3755,  ..., 1.6667, 1.6667, 1.6495]],\n",
              " \n",
              "         [[1.2206, 1.2206, 1.2206,  ..., 1.3431, 1.3256, 1.3782],\n",
              "          [1.2031, 1.2206, 1.1856,  ..., 1.3606, 1.3081, 1.2731],\n",
              "          [1.1681, 1.2206, 1.2206,  ..., 1.3606, 1.3431, 1.3256],\n",
              "          ...,\n",
              "          [1.1681, 1.2206, 1.2556,  ..., 1.4832, 1.5007, 1.4832],\n",
              "          [1.1331, 1.2031, 1.2556,  ..., 1.4657, 1.4832, 1.4657],\n",
              "          [1.1331, 1.1506, 1.2206,  ..., 1.4657, 1.4657, 1.4482]],\n",
              " \n",
              "         [[0.6182, 0.6182, 0.6182,  ..., 0.7925, 0.7751, 0.7576],\n",
              "          [0.6182, 0.6008, 0.5485,  ..., 0.8099, 0.7228, 0.6531],\n",
              "          [0.6182, 0.6182, 0.6356,  ..., 0.8099, 0.7751, 0.7402],\n",
              "          ...,\n",
              "          [0.6356, 0.6879, 0.7925,  ..., 1.0365, 1.0017, 0.9668],\n",
              "          [0.6356, 0.6879, 0.7402,  ..., 1.0365, 1.0365, 1.0191],\n",
              "          [0.6356, 0.6531, 0.7054,  ..., 1.0365, 1.0365, 1.0191]]])}"
            ]
          },
          "metadata": {},
          "execution_count": 236
        }
      ]
    },
    {
      "cell_type": "code",
      "source": [
        "def collate_fn(examples):\n",
        "    pixel_values = torch.stack([example[\"pixel_values\"] for example in examples])\n",
        "    labels = torch.tensor([example[\"labels\"] for example in examples])\n",
        "    return {\"pixel_values\": pixel_values, \"labels\": labels}"
      ],
      "metadata": {
        "id": "L_iTrqcOBU06"
      },
      "execution_count": null,
      "outputs": []
    },
    {
      "cell_type": "code",
      "source": [
        "id2label = dict(enumerate(train_ds.features[\"labels\"].names))\n",
        "label2id = {v: k for k, v in id2label.items()}"
      ],
      "metadata": {
        "id": "mvTHzuT6B6on"
      },
      "execution_count": null,
      "outputs": []
    },
    {
      "cell_type": "code",
      "source": [
        "model = AutoModelForImageClassification.from_pretrained(\n",
        "    MODEL_CHECKPOINT,\n",
        "    num_labels=len(id2label),\n",
        "    id2label=id2label,\n",
        "    label2id=label2id,\n",
        "    ignore_mismatched_sizes=True,\n",
        ")"
      ],
      "metadata": {
        "colab": {
          "base_uri": "https://localhost:8080/"
        },
        "id": "1Bg6JjmbCTE_",
        "outputId": "d3f9900b-4746-4cf4-a687-ebb5764ae3a8"
      },
      "execution_count": null,
      "outputs": [
        {
          "output_type": "stream",
          "name": "stderr",
          "text": [
            "loading configuration file config.json from cache at /root/.cache/huggingface/hub/models--facebook--convnext-base-224/snapshots/eda2970bc74154a2af92300316deecd49f72bea8/config.json\n",
            "Model config ConvNextConfig {\n",
            "  \"_name_or_path\": \"facebook/convnext-base-224\",\n",
            "  \"architectures\": [\n",
            "    \"ConvNextForImageClassification\"\n",
            "  ],\n",
            "  \"depths\": [\n",
            "    3,\n",
            "    3,\n",
            "    27,\n",
            "    3\n",
            "  ],\n",
            "  \"drop_path_rate\": 0.0,\n",
            "  \"hidden_act\": \"gelu\",\n",
            "  \"hidden_sizes\": [\n",
            "    128,\n",
            "    256,\n",
            "    512,\n",
            "    1024\n",
            "  ],\n",
            "  \"id2label\": {\n",
            "    \"0\": \"illustrated\",\n",
            "    \"1\": \"not-illustrated\"\n",
            "  },\n",
            "  \"image_size\": 224,\n",
            "  \"initializer_range\": 0.02,\n",
            "  \"label2id\": {\n",
            "    \"illustrated\": 0,\n",
            "    \"not-illustrated\": 1\n",
            "  },\n",
            "  \"layer_norm_eps\": 1e-12,\n",
            "  \"layer_scale_init_value\": 1e-06,\n",
            "  \"model_type\": \"convnext\",\n",
            "  \"num_channels\": 3,\n",
            "  \"num_stages\": 4,\n",
            "  \"patch_size\": 4,\n",
            "  \"torch_dtype\": \"float32\",\n",
            "  \"transformers_version\": \"4.22.2\"\n",
            "}\n",
            "\n",
            "loading weights file pytorch_model.bin from cache at /root/.cache/huggingface/hub/models--facebook--convnext-base-224/snapshots/eda2970bc74154a2af92300316deecd49f72bea8/pytorch_model.bin\n",
            "All model checkpoint weights were used when initializing ConvNextForImageClassification.\n",
            "\n",
            "Some weights of ConvNextForImageClassification were not initialized from the model checkpoint at facebook/convnext-base-224 and are newly initialized because the shapes did not match:\n",
            "- classifier.weight: found shape torch.Size([1000, 1024]) in the checkpoint and torch.Size([2, 1024]) in the model instantiated\n",
            "- classifier.bias: found shape torch.Size([1000]) in the checkpoint and torch.Size([2]) in the model instantiated\n",
            "You should probably TRAIN this model on a down-stream task to be able to use it for predictions and inference.\n"
          ]
        }
      ]
    },
    {
      "cell_type": "code",
      "source": [
        "model_name = MODEL_CHECKPOINT.split(\"/\")[1]\n",
        "dataset_name = TRAIN_DATASET_CHECKPOINT.split(\"/\")[1]"
      ],
      "metadata": {
        "id": "ib5xHGpWKLMv"
      },
      "execution_count": null,
      "outputs": []
    },
    {
      "cell_type": "code",
      "source": [],
      "metadata": {
        "id": "gPjHifkmLYyK"
      },
      "execution_count": null,
      "outputs": []
    },
    {
      "cell_type": "code",
      "source": [
        "args = TrainingArguments(\n",
        "    \"imagein\",\n",
        "    save_strategy=\"epoch\",\n",
        "    evaluation_strategy=\"epoch\",\n",
        "    hub_model_id=f\"ImageIN/{model_name}_finetuned_on_{dataset_name}\",\n",
        "    overwrite_output_dir=True,\n",
        "    push_to_hub=True,\n",
        "    label_smoothing_factor=0.2,\n",
        "    per_device_train_batch_size=16,\n",
        "    per_device_eval_batch_size=16,\n",
        "    num_train_epochs=10,\n",
        "    weight_decay=0.1,\n",
        "    disable_tqdm=False,\n",
        "    fp16=FP_16,\n",
        "    load_best_model_at_end=True,\n",
        "    metric_for_best_model=\"f1\",\n",
        "    logging_dir=\"logs\",\n",
        "    remove_unused_columns=False,\n",
        "    save_total_limit=10,\n",
        "    seed=42, \n",
        "    report_to=\"wandb\",\n",
        ")"
      ],
      "metadata": {
        "id": "A9ZSvoRiCecE",
        "colab": {
          "base_uri": "https://localhost:8080/"
        },
        "outputId": "f8db2273-2b09-41ac-b74a-f11426460a67"
      },
      "execution_count": null,
      "outputs": [
        {
          "output_type": "stream",
          "name": "stderr",
          "text": [
            "PyTorch: setting up devices\n"
          ]
        }
      ]
    },
    {
      "cell_type": "code",
      "source": [
        "feature_extractor = AutoFeatureExtractor.from_pretrained(MODEL_CHECKPOINT)"
      ],
      "metadata": {
        "id": "WmUR8EGxEcV-",
        "colab": {
          "base_uri": "https://localhost:8080/"
        },
        "outputId": "a9f4eab5-2ce2-4f37-c23b-a571ad8fdefd"
      },
      "execution_count": null,
      "outputs": [
        {
          "output_type": "stream",
          "name": "stderr",
          "text": [
            "loading configuration file preprocessor_config.json from cache at /root/.cache/huggingface/hub/models--facebook--convnext-base-224/snapshots/eda2970bc74154a2af92300316deecd49f72bea8/preprocessor_config.json\n",
            "Feature extractor ConvNextFeatureExtractor {\n",
            "  \"crop_pct\": 0.875,\n",
            "  \"do_normalize\": true,\n",
            "  \"do_resize\": true,\n",
            "  \"feature_extractor_type\": \"ConvNextFeatureExtractor\",\n",
            "  \"image_mean\": [\n",
            "    0.485,\n",
            "    0.456,\n",
            "    0.406\n",
            "  ],\n",
            "  \"image_std\": [\n",
            "    0.229,\n",
            "    0.224,\n",
            "    0.225\n",
            "  ],\n",
            "  \"resample\": 3,\n",
            "  \"size\": 224\n",
            "}\n",
            "\n"
          ]
        }
      ]
    },
    {
      "cell_type": "code",
      "source": [
        "def compute_metrics(eval_pred):\n",
        "    precision_metric = load_metric(\"precision\")\n",
        "    recall_metric = load_metric(\"recall\")\n",
        "    f1_metric = load_metric(\"f1\")\n",
        "    accuracy_metric = load_metric(\"accuracy\")\n",
        "\n",
        "    logits, labels = eval_pred\n",
        "    predictions = np.argmax(logits, axis=-1)\n",
        "    precision = precision_metric.compute(\n",
        "        predictions=predictions, references=labels, average=\"macro\"\n",
        "    )[\"precision\"]\n",
        "    recall = recall_metric.compute(\n",
        "        predictions=predictions, references=labels, average=\"macro\"\n",
        "    )[\"recall\"]\n",
        "    f1 = f1_metric.compute(predictions=predictions, references=labels, average=\"macro\")[\n",
        "        \"f1\"\n",
        "    ]\n",
        "    accuracy = accuracy_metric.compute(predictions=predictions, references=labels)[\n",
        "        \"accuracy\"\n",
        "    ]\n",
        "    return {\"precision\": precision, \"recall\": recall, \"f1\": f1, \"accuracy\": accuracy}"
      ],
      "metadata": {
        "id": "k_g55UFxEaEk"
      },
      "execution_count": null,
      "outputs": []
    },
    {
      "cell_type": "code",
      "source": [],
      "metadata": {
        "id": "tXSgtpkSHdKw"
      },
      "execution_count": null,
      "outputs": []
    },
    {
      "cell_type": "code",
      "source": [
        "trainer = Trainer(\n",
        "    model,\n",
        "    args,\n",
        "    train_dataset=train_ds,\n",
        "    eval_dataset=valid_ds,\n",
        "    data_collator=collate_fn,\n",
        "    compute_metrics=compute_metrics,\n",
        "    tokenizer=feature_extractor,\n",
        ")"
      ],
      "metadata": {
        "colab": {
          "base_uri": "https://localhost:8080/"
        },
        "id": "UMfM6BcBEVUV",
        "outputId": "0a0b5a4c-0a85-4ff8-b3f1-5925186e6bc9"
      },
      "execution_count": null,
      "outputs": [
        {
          "output_type": "stream",
          "name": "stderr",
          "text": [
            "/content/imagein is already a clone of https://huggingface.co/ImageIN/convnext-base-224_finetuned_on_unlabelled_IA_with_snorkel_labels. Make sure you pull the latest changes with `repo.git_pull()`.\n",
            "WARNING:huggingface_hub.repository:/content/imagein is already a clone of https://huggingface.co/ImageIN/convnext-base-224_finetuned_on_unlabelled_IA_with_snorkel_labels. Make sure you pull the latest changes with `repo.git_pull()`.\n",
            "Using cuda_amp half precision backend\n"
          ]
        }
      ]
    },
    {
      "cell_type": "code",
      "source": [
        "trainer.train()"
      ],
      "metadata": {
        "colab": {
          "base_uri": "https://localhost:8080/",
          "height": 1000
        },
        "id": "ioVhYm1FEwpM",
        "outputId": "383a718f-8082-404e-83d4-b01203b9ce2e"
      },
      "execution_count": null,
      "outputs": [
        {
          "output_type": "stream",
          "name": "stderr",
          "text": [
            "/usr/local/lib/python3.7/dist-packages/transformers/optimization.py:310: FutureWarning: This implementation of AdamW is deprecated and will be removed in a future version. Use the PyTorch implementation torch.optim.AdamW instead, or set `no_deprecation_warning=True` to disable this warning\n",
            "  FutureWarning,\n",
            "***** Running training *****\n",
            "  Num examples = 32326\n",
            "  Num Epochs = 10\n",
            "  Instantaneous batch size per device = 16\n",
            "  Total train batch size (w. parallel, distributed & accumulation) = 16\n",
            "  Gradient Accumulation steps = 1\n",
            "  Total optimization steps = 20210\n",
            "Automatic Weights & Biases logging enabled, to disable set os.environ[\"WANDB_DISABLED\"] = \"true\"\n"
          ]
        },
        {
          "output_type": "display_data",
          "data": {
            "text/plain": [
              "<IPython.core.display.HTML object>"
            ],
            "text/html": [
              "\n",
              "    <div>\n",
              "      \n",
              "      <progress value='20210' max='20210' style='width:300px; height:20px; vertical-align: middle;'></progress>\n",
              "      [20210/20210 2:55:56, Epoch 10/10]\n",
              "    </div>\n",
              "    <table border=\"1\" class=\"dataframe\">\n",
              "  <thead>\n",
              " <tr style=\"text-align: left;\">\n",
              "      <th>Epoch</th>\n",
              "      <th>Training Loss</th>\n",
              "      <th>Validation Loss</th>\n",
              "      <th>Precision</th>\n",
              "      <th>Recall</th>\n",
              "      <th>F1</th>\n",
              "      <th>Accuracy</th>\n",
              "    </tr>\n",
              "  </thead>\n",
              "  <tbody>\n",
              "    <tr>\n",
              "      <td>1</td>\n",
              "      <td>0.361100</td>\n",
              "      <td>0.346744</td>\n",
              "      <td>0.984269</td>\n",
              "      <td>0.972874</td>\n",
              "      <td>0.978409</td>\n",
              "      <td>0.984177</td>\n",
              "    </tr>\n",
              "    <tr>\n",
              "      <td>2</td>\n",
              "      <td>0.352400</td>\n",
              "      <td>0.345275</td>\n",
              "      <td>0.985340</td>\n",
              "      <td>0.978962</td>\n",
              "      <td>0.982100</td>\n",
              "      <td>0.986814</td>\n",
              "    </tr>\n",
              "    <tr>\n",
              "      <td>3</td>\n",
              "      <td>0.346600</td>\n",
              "      <td>0.343839</td>\n",
              "      <td>0.985404</td>\n",
              "      <td>0.984701</td>\n",
              "      <td>0.985052</td>\n",
              "      <td>0.988924</td>\n",
              "    </tr>\n",
              "    <tr>\n",
              "      <td>4</td>\n",
              "      <td>0.343300</td>\n",
              "      <td>0.343425</td>\n",
              "      <td>0.984995</td>\n",
              "      <td>0.980759</td>\n",
              "      <td>0.982854</td>\n",
              "      <td>0.987342</td>\n",
              "    </tr>\n",
              "    <tr>\n",
              "      <td>5</td>\n",
              "      <td>0.340400</td>\n",
              "      <td>0.345880</td>\n",
              "      <td>0.985340</td>\n",
              "      <td>0.978962</td>\n",
              "      <td>0.982100</td>\n",
              "      <td>0.986814</td>\n",
              "    </tr>\n",
              "    <tr>\n",
              "      <td>6</td>\n",
              "      <td>0.338400</td>\n",
              "      <td>0.345342</td>\n",
              "      <td>0.985340</td>\n",
              "      <td>0.978962</td>\n",
              "      <td>0.982100</td>\n",
              "      <td>0.986814</td>\n",
              "    </tr>\n",
              "    <tr>\n",
              "      <td>7</td>\n",
              "      <td>0.338200</td>\n",
              "      <td>0.343724</td>\n",
              "      <td>0.986430</td>\n",
              "      <td>0.982181</td>\n",
              "      <td>0.984283</td>\n",
              "      <td>0.988397</td>\n",
              "    </tr>\n",
              "    <tr>\n",
              "      <td>8</td>\n",
              "      <td>0.335800</td>\n",
              "      <td>0.344064</td>\n",
              "      <td>0.985727</td>\n",
              "      <td>0.982905</td>\n",
              "      <td>0.984306</td>\n",
              "      <td>0.988397</td>\n",
              "    </tr>\n",
              "    <tr>\n",
              "      <td>9</td>\n",
              "      <td>0.334900</td>\n",
              "      <td>0.344801</td>\n",
              "      <td>0.985727</td>\n",
              "      <td>0.982905</td>\n",
              "      <td>0.984306</td>\n",
              "      <td>0.988397</td>\n",
              "    </tr>\n",
              "    <tr>\n",
              "      <td>10</td>\n",
              "      <td>0.332500</td>\n",
              "      <td>0.344316</td>\n",
              "      <td>0.986430</td>\n",
              "      <td>0.982181</td>\n",
              "      <td>0.984283</td>\n",
              "      <td>0.988397</td>\n",
              "    </tr>\n",
              "  </tbody>\n",
              "</table><p>"
            ]
          },
          "metadata": {}
        },
        {
          "output_type": "stream",
          "name": "stderr",
          "text": [
            "***** Running Evaluation *****\n",
            "  Num examples = 1896\n",
            "  Batch size = 16\n",
            "Saving model checkpoint to imagein/checkpoint-2021\n",
            "Configuration saved in imagein/checkpoint-2021/config.json\n",
            "Model weights saved in imagein/checkpoint-2021/pytorch_model.bin\n",
            "Feature extractor saved in imagein/checkpoint-2021/preprocessor_config.json\n",
            "Feature extractor saved in imagein/preprocessor_config.json\n",
            "Several commits (2) will be pushed upstream.\n",
            "WARNING:huggingface_hub.repository:Several commits (2) will be pushed upstream.\n",
            "***** Running Evaluation *****\n",
            "  Num examples = 1896\n",
            "  Batch size = 16\n",
            "Saving model checkpoint to imagein/checkpoint-4042\n",
            "Configuration saved in imagein/checkpoint-4042/config.json\n",
            "Model weights saved in imagein/checkpoint-4042/pytorch_model.bin\n",
            "Feature extractor saved in imagein/checkpoint-4042/preprocessor_config.json\n",
            "***** Running Evaluation *****\n",
            "  Num examples = 1896\n",
            "  Batch size = 16\n",
            "Saving model checkpoint to imagein/checkpoint-6063\n",
            "Configuration saved in imagein/checkpoint-6063/config.json\n",
            "Model weights saved in imagein/checkpoint-6063/pytorch_model.bin\n",
            "Feature extractor saved in imagein/checkpoint-6063/preprocessor_config.json\n",
            "***** Running Evaluation *****\n",
            "  Num examples = 1896\n",
            "  Batch size = 16\n",
            "Saving model checkpoint to imagein/checkpoint-8084\n",
            "Configuration saved in imagein/checkpoint-8084/config.json\n",
            "Model weights saved in imagein/checkpoint-8084/pytorch_model.bin\n",
            "Feature extractor saved in imagein/checkpoint-8084/preprocessor_config.json\n",
            "***** Running Evaluation *****\n",
            "  Num examples = 1896\n",
            "  Batch size = 16\n",
            "Saving model checkpoint to imagein/checkpoint-10105\n",
            "Configuration saved in imagein/checkpoint-10105/config.json\n",
            "Model weights saved in imagein/checkpoint-10105/pytorch_model.bin\n",
            "Feature extractor saved in imagein/checkpoint-10105/preprocessor_config.json\n",
            "***** Running Evaluation *****\n",
            "  Num examples = 1896\n",
            "  Batch size = 16\n",
            "Saving model checkpoint to imagein/checkpoint-12126\n",
            "Configuration saved in imagein/checkpoint-12126/config.json\n",
            "Model weights saved in imagein/checkpoint-12126/pytorch_model.bin\n",
            "Feature extractor saved in imagein/checkpoint-12126/preprocessor_config.json\n",
            "***** Running Evaluation *****\n",
            "  Num examples = 1896\n",
            "  Batch size = 16\n",
            "Saving model checkpoint to imagein/checkpoint-14147\n",
            "Configuration saved in imagein/checkpoint-14147/config.json\n",
            "Model weights saved in imagein/checkpoint-14147/pytorch_model.bin\n",
            "Feature extractor saved in imagein/checkpoint-14147/preprocessor_config.json\n",
            "***** Running Evaluation *****\n",
            "  Num examples = 1896\n",
            "  Batch size = 16\n",
            "Saving model checkpoint to imagein/checkpoint-16168\n",
            "Configuration saved in imagein/checkpoint-16168/config.json\n",
            "Model weights saved in imagein/checkpoint-16168/pytorch_model.bin\n",
            "Feature extractor saved in imagein/checkpoint-16168/preprocessor_config.json\n",
            "***** Running Evaluation *****\n",
            "  Num examples = 1896\n",
            "  Batch size = 16\n",
            "Saving model checkpoint to imagein/checkpoint-18189\n",
            "Configuration saved in imagein/checkpoint-18189/config.json\n",
            "Model weights saved in imagein/checkpoint-18189/pytorch_model.bin\n",
            "Feature extractor saved in imagein/checkpoint-18189/preprocessor_config.json\n",
            "***** Running Evaluation *****\n",
            "  Num examples = 1896\n",
            "  Batch size = 16\n",
            "Saving model checkpoint to imagein/checkpoint-20210\n",
            "Configuration saved in imagein/checkpoint-20210/config.json\n",
            "Model weights saved in imagein/checkpoint-20210/pytorch_model.bin\n",
            "Feature extractor saved in imagein/checkpoint-20210/preprocessor_config.json\n",
            "\n",
            "\n",
            "Training completed. Do not forget to share your model on huggingface.co/models =)\n",
            "\n",
            "\n",
            "Loading best model from imagein/checkpoint-6063 (score: 0.9850517590726203).\n"
          ]
        },
        {
          "output_type": "execute_result",
          "data": {
            "text/plain": [
              "TrainOutput(global_step=20210, training_loss=0.34263711520671136, metrics={'train_runtime': 10557.4405, 'train_samples_per_second': 30.619, 'train_steps_per_second': 1.914, 'total_flos': 2.5566335888419308e+19, 'train_loss': 0.34263711520671136, 'epoch': 10.0})"
            ]
          },
          "metadata": {},
          "execution_count": 245
        }
      ]
    },
    {
      "cell_type": "code",
      "source": [
        "trainer.push_to_hub(\"training finished\")"
      ],
      "metadata": {
        "colab": {
          "base_uri": "https://localhost:8080/",
          "height": 584,
          "referenced_widgets": [
            "85af5833ed4c4c98a05b2c1b637d9b82",
            "154ec9e73266423b9a15287cb97eb76b",
            "e44897fb5d9845249ad29b429c79be1e",
            "1b526e3d37f146aba8dce3a347b79110",
            "a41816640b91483ea6379d73e9c0cb45",
            "aecb900db9284f8abc92a8b4e8af2907",
            "506f07c5c6e04f6e9b099b5e4f6ab10a",
            "4ed45e7b7e9f46b5bed99d56f0abcf6a",
            "ca81abfb886c4545aff9cf4bf721c568",
            "6e2d48e343cc423c958f3adc80296933",
            "124bec8c56e6499fbe37c5683fa9d261"
          ]
        },
        "id": "oT6FT46dNh9r",
        "outputId": "cfcd3fe6-72f0-415f-8a32-5d57c24b5c33"
      },
      "execution_count": null,
      "outputs": [
        {
          "output_type": "stream",
          "name": "stderr",
          "text": [
            "Saving model checkpoint to imagein\n",
            "Configuration saved in imagein/config.json\n",
            "Model weights saved in imagein/pytorch_model.bin\n",
            "Feature extractor saved in imagein/preprocessor_config.json\n",
            "Several commits (3) will be pushed upstream.\n",
            "WARNING:huggingface_hub.repository:Several commits (3) will be pushed upstream.\n",
            "The progress bars may be unreliable.\n",
            "WARNING:huggingface_hub.repository:The progress bars may be unreliable.\n"
          ]
        },
        {
          "output_type": "display_data",
          "data": {
            "text/plain": [
              "Upload file pytorch_model.bin:   0%|          | 3.34k/334M [00:00<?, ?B/s]"
            ],
            "application/vnd.jupyter.widget-view+json": {
              "version_major": 2,
              "version_minor": 0,
              "model_id": "85af5833ed4c4c98a05b2c1b637d9b82"
            }
          },
          "metadata": {}
        },
        {
          "output_type": "stream",
          "name": "stderr",
          "text": [
            "remote: Scanning LFS files for validity, may be slow...        \n",
            "remote: LFS file scan complete.        \n",
            "To https://huggingface.co/ImageIN/convnext-base-224_finetuned_on_unlabelled_IA_with_snorkel_labels\n",
            "   b34bec0..1d7bc72  main -> main\n",
            "\n",
            "WARNING:huggingface_hub.repository:remote: Scanning LFS files for validity, may be slow...        \n",
            "remote: LFS file scan complete.        \n",
            "To https://huggingface.co/ImageIN/convnext-base-224_finetuned_on_unlabelled_IA_with_snorkel_labels\n",
            "   b34bec0..1d7bc72  main -> main\n",
            "\n",
            "Dropping the following result as it does not have all the necessary fields:\n",
            "{'task': {'name': 'Image Classification', 'type': 'image-classification'}, 'metrics': [{'name': 'Precision', 'type': 'precision', 'value': 0.986429696015502}, {'name': 'Recall', 'type': 'recall', 'value': 0.9821813379753294}, {'name': 'F1', 'type': 'f1', 'value': 0.984282848439815}, {'name': 'Accuracy', 'type': 'accuracy', 'value': 0.9883966244725738}]}\n",
            "To https://huggingface.co/ImageIN/convnext-base-224_finetuned_on_unlabelled_IA_with_snorkel_labels\n",
            "   1d7bc72..56d2df5  main -> main\n",
            "\n",
            "WARNING:huggingface_hub.repository:To https://huggingface.co/ImageIN/convnext-base-224_finetuned_on_unlabelled_IA_with_snorkel_labels\n",
            "   1d7bc72..56d2df5  main -> main\n",
            "\n"
          ]
        },
        {
          "output_type": "execute_result",
          "data": {
            "text/plain": [
              "'https://huggingface.co/ImageIN/convnext-base-224_finetuned_on_unlabelled_IA_with_snorkel_labels/commit/1d7bc725280a215cef5a3e2146ed02e1a8b95b57'"
            ],
            "application/vnd.google.colaboratory.intrinsic+json": {
              "type": "string"
            }
          },
          "metadata": {},
          "execution_count": 246
        }
      ]
    },
    {
      "cell_type": "code",
      "source": [
        "wandb.finish()"
      ],
      "metadata": {
        "colab": {
          "base_uri": "https://localhost:8080/",
          "height": 939,
          "referenced_widgets": [
            "b27d254bdbc24696854408178247f08b",
            "73a99dc38c7844219b66062f8d3ffa38",
            "6da70641783849f8bfbc8f1744389c74",
            "eace8129ef8f44328b589840a36fb0c5",
            "7ca8d330c2e043fe94822c644c233249",
            "9fc3d0dbf78e449a9a49b89fce6bc022",
            "a0b7ff3abf61453b9986a95eb0983aed",
            "9f3671b6e7ad4981bf9089d2e2a743ae"
          ]
        },
        "id": "e5kR2Zkk-3Yo",
        "outputId": "9c43a811-4eb5-49b8-80be-0dcc0c785484"
      },
      "execution_count": null,
      "outputs": [
        {
          "output_type": "display_data",
          "data": {
            "text/plain": [
              "<IPython.core.display.HTML object>"
            ],
            "text/html": [
              "Waiting for W&B process to finish... <strong style=\"color:green\">(success).</strong>"
            ]
          },
          "metadata": {}
        },
        {
          "output_type": "display_data",
          "data": {
            "text/plain": [
              "VBox(children=(Label(value='0.001 MB of 0.001 MB uploaded (0.000 MB deduped)\\r'), FloatProgress(value=1.0, max…"
            ],
            "application/vnd.jupyter.widget-view+json": {
              "version_major": 2,
              "version_minor": 0,
              "model_id": "b27d254bdbc24696854408178247f08b"
            }
          },
          "metadata": {}
        },
        {
          "output_type": "display_data",
          "data": {
            "text/plain": [
              "<IPython.core.display.HTML object>"
            ],
            "text/html": [
              "<style>\n",
              "    table.wandb td:nth-child(1) { padding: 0 10px; text-align: left ; width: auto;} td:nth-child(2) {text-align: left ; width: 100%}\n",
              "    .wandb-row { display: flex; flex-direction: row; flex-wrap: wrap; justify-content: flex-start; width: 100% }\n",
              "    .wandb-col { display: flex; flex-direction: column; flex-basis: 100%; flex: 1; padding: 10px; }\n",
              "    </style>\n",
              "<div class=\"wandb-row\"><div class=\"wandb-col\"><h3>Run history:</h3><br/><table class=\"wandb\"><tr><td>eval/accuracy</td><td>▁▃▃▃▃▃▃▅▃▅▃▅▂▆▇▅▆▆▃▇▅▆▅▁▆▇▇█▇█▇▇▇▆▇▇▇▇▆▅</td></tr><tr><td>eval/f1</td><td>▁▃▃▃▃▄▄▅▃▅▃▅▂▆▇▅▆▆▃▇▅▆▅▂▆▇▇█▇█▇▇▇▆▇▇▇▇▆▅</td></tr><tr><td>eval/loss</td><td>█▂▂▂▂▁▁▂▃▂▃▂▄▂▂▂▃▃▃▂▃▃▂▆▂▂▃▁▂▁▂▂▂▂▂▂▂▂▂▂</td></tr><tr><td>eval/precision</td><td>▆▆▆▆▆▄▄▇▆▇▆▅▆▇▇▅▇▇▆█▇▇▄▁▅▆▆█▆▇██▆▅▆▆██▆▅</td></tr><tr><td>eval/recall</td><td>▁▄▄▄▄▅▅▅▄▅▄▆▃▅▇▆▅▅▄▆▅▅▇▆▇██▇██▆▆█▇██▆▆▇▆</td></tr><tr><td>eval/runtime</td><td>▃█▁▂▂▁▂▂▁▃▁▃▄▂▂▂▂▃▃▂▂▄▃▃▃▃▂▃▃▃▄▂▂▃▃▃▃▂▃▂</td></tr><tr><td>eval/samples_per_second</td><td>▆▁█▇▇█▇▇█▆█▆▅▇▇▇▆▅▆▇▇▅▆▆▆▆▆▆▆▆▅▇▇▆▆▆▆▇▆▇</td></tr><tr><td>eval/steps_per_second</td><td>▆▁█▇▇█▇▇█▆█▆▅▇▇▇▆▅▆▇▇▅▆▆▆▆▇▆▆▆▅▇▇▆▆▆▆▇▆▇</td></tr><tr><td>train/epoch</td><td>▁▁▁▂▂▂▂▂▂▃▃▃▃▃▃▄▄▄▄▄▅▅▅▅▅▆▆▆▆▆▆▇▇▇▇▇████</td></tr><tr><td>train/global_step</td><td>▁▁▁▂▂▂▂▂▂▃▃▃▃▃▃▄▄▄▄▄▅▅▅▅▅▆▆▆▆▆▆▇▇▇▇▇████</td></tr><tr><td>train/learning_rate</td><td>█▇▆▅▄▃▂▁</td></tr><tr><td>train/loss</td><td>█▂▂▁▁▂▁▁</td></tr><tr><td>train/total_flos</td><td>▁</td></tr><tr><td>train/train_loss</td><td>▁</td></tr><tr><td>train/train_runtime</td><td>▁</td></tr><tr><td>train/train_samples_per_second</td><td>▁</td></tr><tr><td>train/train_steps_per_second</td><td>▁</td></tr></table><br/></div><div class=\"wandb-col\"><h3>Run summary:</h3><br/><table class=\"wandb\"><tr><td>eval/accuracy</td><td>0.98243</td></tr><tr><td>eval/f1</td><td>0.97654</td></tr><tr><td>eval/loss</td><td>0.07492</td></tr><tr><td>eval/precision</td><td>0.97217</td></tr><tr><td>eval/recall</td><td>0.98113</td></tr><tr><td>eval/runtime</td><td>77.1187</td></tr><tr><td>eval/samples_per_second</td><td>7.378</td></tr><tr><td>eval/steps_per_second</td><td>0.467</td></tr><tr><td>train/epoch</td><td>50.0</td></tr><tr><td>train/global_step</td><td>4150</td></tr><tr><td>train/learning_rate</td><td>0.0</td></tr><tr><td>train/loss</td><td>0.0082</td></tr><tr><td>train/total_flos</td><td>5.247560434933555e+18</td></tr><tr><td>train/train_loss</td><td>0.02293</td></tr><tr><td>train/train_runtime</td><td>13997.5317</td></tr><tr><td>train/train_samples_per_second</td><td>4.74</td></tr><tr><td>train/train_steps_per_second</td><td>0.296</td></tr></table><br/></div></div>"
            ]
          },
          "metadata": {}
        },
        {
          "output_type": "display_data",
          "data": {
            "text/plain": [
              "<IPython.core.display.HTML object>"
            ],
            "text/html": [
              "Synced <strong style=\"color:#cdcd00\">imagein</strong>: <a href=\"https://wandb.ai/davanstrien/imagein/runs/2gpqh7d3\" target=\"_blank\">https://wandb.ai/davanstrien/imagein/runs/2gpqh7d3</a><br/>Synced 5 W&B file(s), 0 media file(s), 0 artifact file(s) and 0 other file(s)"
            ]
          },
          "metadata": {}
        },
        {
          "output_type": "display_data",
          "data": {
            "text/plain": [
              "<IPython.core.display.HTML object>"
            ],
            "text/html": [
              "Find logs at: <code>./wandb/run-20220926_122944-2gpqh7d3/logs</code>"
            ]
          },
          "metadata": {}
        }
      ]
    },
    {
      "cell_type": "code",
      "source": [],
      "metadata": {
        "id": "mli0OMBLNkUo"
      },
      "execution_count": null,
      "outputs": []
    }
  ]
}